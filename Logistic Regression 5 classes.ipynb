{
 "cells": [
  {
   "cell_type": "code",
   "execution_count": 1,
   "metadata": {
    "collapsed": true
   },
   "outputs": [],
   "source": [
    "import pandas as pd\n",
    "import numpy as np\n",
    "import scipy as sp\n",
    "from sklearn.linear_model import LogisticRegression\n",
    "from sklearn.cross_validation import train_test_split\n",
    "import time"
   ]
  },
  {
   "cell_type": "code",
   "execution_count": 2,
   "metadata": {
    "collapsed": false
   },
   "outputs": [
    {
     "data": {
      "text/plain": [
       "(86886, 8)"
      ]
     },
     "execution_count": 2,
     "metadata": {},
     "output_type": "execute_result"
    }
   ],
   "source": [
    "train_data = pd.read_csv(\"/resources/data/kdd/project/data/fiveclasses_train.csv\")\n",
    "train_data.shape"
   ]
  },
  {
   "cell_type": "code",
   "execution_count": 3,
   "metadata": {
    "collapsed": false
   },
   "outputs": [
    {
     "data": {
      "text/plain": [
       "(86886, 8)"
      ]
     },
     "execution_count": 3,
     "metadata": {},
     "output_type": "execute_result"
    }
   ],
   "source": [
    "train_data=train_data.dropna()\n",
    "train_data.shape"
   ]
  },
  {
   "cell_type": "code",
   "execution_count": 4,
   "metadata": {
    "collapsed": false
   },
   "outputs": [
    {
     "data": {
      "text/html": [
       "<div>\n",
       "<table border=\"1\" class=\"dataframe\">\n",
       "  <thead>\n",
       "    <tr style=\"text-align: right;\">\n",
       "      <th></th>\n",
       "      <th>Unnamed: 0</th>\n",
       "      <th>TripType</th>\n",
       "      <th>VisitNumber</th>\n",
       "      <th>Weekday</th>\n",
       "      <th>Upc</th>\n",
       "      <th>ScanCount</th>\n",
       "      <th>FinelineNumber</th>\n",
       "    </tr>\n",
       "  </thead>\n",
       "  <tbody>\n",
       "    <tr>\n",
       "      <th>count</th>\n",
       "      <td>69508.000000</td>\n",
       "      <td>69508.000000</td>\n",
       "      <td>69508.000000</td>\n",
       "      <td>69508.000000</td>\n",
       "      <td>6.950800e+04</td>\n",
       "      <td>69508.000000</td>\n",
       "      <td>69508.000000</td>\n",
       "    </tr>\n",
       "    <tr>\n",
       "      <th>mean</th>\n",
       "      <td>327025.052828</td>\n",
       "      <td>31.607844</td>\n",
       "      <td>97192.732203</td>\n",
       "      <td>4.338551</td>\n",
       "      <td>2.325189e+10</td>\n",
       "      <td>1.133121</td>\n",
       "      <td>3728.289247</td>\n",
       "    </tr>\n",
       "    <tr>\n",
       "      <th>std</th>\n",
       "      <td>187946.320382</td>\n",
       "      <td>12.262559</td>\n",
       "      <td>55881.369654</td>\n",
       "      <td>2.080042</td>\n",
       "      <td>5.355042e+10</td>\n",
       "      <td>0.608981</td>\n",
       "      <td>2711.479734</td>\n",
       "    </tr>\n",
       "    <tr>\n",
       "      <th>min</th>\n",
       "      <td>100.000000</td>\n",
       "      <td>3.000000</td>\n",
       "      <td>43.000000</td>\n",
       "      <td>1.000000</td>\n",
       "      <td>3.035000e+03</td>\n",
       "      <td>-6.000000</td>\n",
       "      <td>0.000000</td>\n",
       "    </tr>\n",
       "    <tr>\n",
       "      <th>25%</th>\n",
       "      <td>161253.000000</td>\n",
       "      <td>36.000000</td>\n",
       "      <td>49077.750000</td>\n",
       "      <td>2.000000</td>\n",
       "      <td>3.320096e+09</td>\n",
       "      <td>1.000000</td>\n",
       "      <td>1407.000000</td>\n",
       "    </tr>\n",
       "    <tr>\n",
       "      <th>50%</th>\n",
       "      <td>329320.500000</td>\n",
       "      <td>37.000000</td>\n",
       "      <td>98518.000000</td>\n",
       "      <td>5.000000</td>\n",
       "      <td>7.050130e+09</td>\n",
       "      <td>1.000000</td>\n",
       "      <td>3526.000000</td>\n",
       "    </tr>\n",
       "    <tr>\n",
       "      <th>75%</th>\n",
       "      <td>493382.250000</td>\n",
       "      <td>38.000000</td>\n",
       "      <td>146390.000000</td>\n",
       "      <td>6.000000</td>\n",
       "      <td>3.018755e+10</td>\n",
       "      <td>1.000000</td>\n",
       "      <td>5501.000000</td>\n",
       "    </tr>\n",
       "    <tr>\n",
       "      <th>max</th>\n",
       "      <td>647007.000000</td>\n",
       "      <td>38.000000</td>\n",
       "      <td>191337.000000</td>\n",
       "      <td>7.000000</td>\n",
       "      <td>9.781633e+11</td>\n",
       "      <td>31.000000</td>\n",
       "      <td>9998.000000</td>\n",
       "    </tr>\n",
       "  </tbody>\n",
       "</table>\n",
       "</div>"
      ],
      "text/plain": [
       "          Unnamed: 0      TripType    VisitNumber       Weekday           Upc  \\\n",
       "count   69508.000000  69508.000000   69508.000000  69508.000000  6.950800e+04   \n",
       "mean   327025.052828     31.607844   97192.732203      4.338551  2.325189e+10   \n",
       "std    187946.320382     12.262559   55881.369654      2.080042  5.355042e+10   \n",
       "min       100.000000      3.000000      43.000000      1.000000  3.035000e+03   \n",
       "25%    161253.000000     36.000000   49077.750000      2.000000  3.320096e+09   \n",
       "50%    329320.500000     37.000000   98518.000000      5.000000  7.050130e+09   \n",
       "75%    493382.250000     38.000000  146390.000000      6.000000  3.018755e+10   \n",
       "max    647007.000000     38.000000  191337.000000      7.000000  9.781633e+11   \n",
       "\n",
       "          ScanCount  FinelineNumber  \n",
       "count  69508.000000    69508.000000  \n",
       "mean       1.133121     3728.289247  \n",
       "std        0.608981     2711.479734  \n",
       "min       -6.000000        0.000000  \n",
       "25%        1.000000     1407.000000  \n",
       "50%        1.000000     3526.000000  \n",
       "75%        1.000000     5501.000000  \n",
       "max       31.000000     9998.000000  "
      ]
     },
     "execution_count": 4,
     "metadata": {},
     "output_type": "execute_result"
    }
   ],
   "source": [
    "train, test = train_test_split(train_data, test_size = 0.2)\n",
    "test=test.dropna()\n",
    "train=train.dropna()\n",
    "train_data = train\n",
    "train_data.describe()"
   ]
  },
  {
   "cell_type": "code",
   "execution_count": 5,
   "metadata": {
    "collapsed": true
   },
   "outputs": [],
   "source": [
    "model = LogisticRegression()"
   ]
  },
  {
   "cell_type": "code",
   "execution_count": 6,
   "metadata": {
    "collapsed": false
   },
   "outputs": [
    {
     "data": {
      "text/plain": [
       "(69508, 8)"
      ]
     },
     "execution_count": 6,
     "metadata": {},
     "output_type": "execute_result"
    }
   ],
   "source": [
    "x = train_data\n",
    "x.shape"
   ]
  },
  {
   "cell_type": "code",
   "execution_count": 7,
   "metadata": {
    "collapsed": false
   },
   "outputs": [
    {
     "data": {
      "text/plain": [
       "(69508, 1)"
      ]
     },
     "execution_count": 7,
     "metadata": {},
     "output_type": "execute_result"
    }
   ],
   "source": [
    "y = train_data[['TripType']]\n",
    "y.shape"
   ]
  },
  {
   "cell_type": "code",
   "execution_count": 8,
   "metadata": {
    "collapsed": false
   },
   "outputs": [
    {
     "data": {
      "text/plain": [
       "(69508, 73)"
      ]
     },
     "execution_count": 8,
     "metadata": {},
     "output_type": "execute_result"
    }
   ],
   "source": [
    "x = pd.get_dummies(x)\n",
    "x.shape"
   ]
  },
  {
   "cell_type": "code",
   "execution_count": 9,
   "metadata": {
    "collapsed": false
   },
   "outputs": [
    {
     "data": {
      "text/html": [
       "<div>\n",
       "<table border=\"1\" class=\"dataframe\">\n",
       "  <thead>\n",
       "    <tr style=\"text-align: right;\">\n",
       "      <th></th>\n",
       "      <th>Unnamed: 0</th>\n",
       "      <th>TripType</th>\n",
       "      <th>VisitNumber</th>\n",
       "      <th>Weekday</th>\n",
       "      <th>Upc</th>\n",
       "      <th>ScanCount</th>\n",
       "      <th>DepartmentDescription</th>\n",
       "      <th>FinelineNumber</th>\n",
       "    </tr>\n",
       "  </thead>\n",
       "  <tbody>\n",
       "    <tr>\n",
       "      <th>83972</th>\n",
       "      <td>148299</td>\n",
       "      <td>5</td>\n",
       "      <td>44857</td>\n",
       "      <td>5</td>\n",
       "      <td>2.500005e+09</td>\n",
       "      <td>1</td>\n",
       "      <td>DAIRY</td>\n",
       "      <td>1407.0</td>\n",
       "    </tr>\n",
       "    <tr>\n",
       "      <th>54327</th>\n",
       "      <td>291307</td>\n",
       "      <td>36</td>\n",
       "      <td>87523</td>\n",
       "      <td>5</td>\n",
       "      <td>8.104740e+10</td>\n",
       "      <td>1</td>\n",
       "      <td>BEAUTY</td>\n",
       "      <td>2267.0</td>\n",
       "    </tr>\n",
       "    <tr>\n",
       "      <th>35514</th>\n",
       "      <td>248980</td>\n",
       "      <td>36</td>\n",
       "      <td>73741</td>\n",
       "      <td>2</td>\n",
       "      <td>2.220094e+09</td>\n",
       "      <td>2</td>\n",
       "      <td>PERSONAL CARE</td>\n",
       "      <td>5491.0</td>\n",
       "    </tr>\n",
       "    <tr>\n",
       "      <th>44911</th>\n",
       "      <td>244344</td>\n",
       "      <td>37</td>\n",
       "      <td>72406</td>\n",
       "      <td>2</td>\n",
       "      <td>8.432370e+10</td>\n",
       "      <td>1</td>\n",
       "      <td>SEAFOOD</td>\n",
       "      <td>1067.0</td>\n",
       "    </tr>\n",
       "    <tr>\n",
       "      <th>49741</th>\n",
       "      <td>514747</td>\n",
       "      <td>37</td>\n",
       "      <td>152358</td>\n",
       "      <td>1</td>\n",
       "      <td>3.508443e+10</td>\n",
       "      <td>2</td>\n",
       "      <td>PHARMACY OTC</td>\n",
       "      <td>2014.0</td>\n",
       "    </tr>\n",
       "  </tbody>\n",
       "</table>\n",
       "</div>"
      ],
      "text/plain": [
       "       Unnamed: 0  TripType  VisitNumber  Weekday           Upc  ScanCount  \\\n",
       "83972      148299         5        44857        5  2.500005e+09          1   \n",
       "54327      291307        36        87523        5  8.104740e+10          1   \n",
       "35514      248980        36        73741        2  2.220094e+09          2   \n",
       "44911      244344        37        72406        2  8.432370e+10          1   \n",
       "49741      514747        37       152358        1  3.508443e+10          2   \n",
       "\n",
       "      DepartmentDescription  FinelineNumber  \n",
       "83972                 DAIRY          1407.0  \n",
       "54327                BEAUTY          2267.0  \n",
       "35514         PERSONAL CARE          5491.0  \n",
       "44911               SEAFOOD          1067.0  \n",
       "49741          PHARMACY OTC          2014.0  "
      ]
     },
     "execution_count": 9,
     "metadata": {},
     "output_type": "execute_result"
    }
   ],
   "source": [
    "z = test\n",
    "z.shape\n",
    "z.head()"
   ]
  },
  {
   "cell_type": "code",
   "execution_count": 10,
   "metadata": {
    "collapsed": false
   },
   "outputs": [
    {
     "data": {
      "text/plain": [
       "(17379, 78)"
      ]
     },
     "execution_count": 10,
     "metadata": {},
     "output_type": "execute_result"
    }
   ],
   "source": [
    "zend = pd.DataFrame({'TripType':[3],'VisitNumber':[187064],'Weekday': ['Sunday'],'Upc':[1.330055e+09],'ScanCount':1, 'DepartmentDescription': ['HEALTH AND BEAUTY AIDS'],'FinelineNumber':[4053.0]}, index = [len(z)])\n",
    "z = z.append(zend) \n",
    "z = pd.get_dummies(z) \n",
    "z.shape"
   ]
  },
  {
   "cell_type": "code",
   "execution_count": 11,
   "metadata": {
    "collapsed": false
   },
   "outputs": [
    {
     "name": "stderr",
     "output_type": "stream",
     "text": [
      "/usr/local/lib/python3.4/dist-packages/sklearn/utils/validation.py:515: DataConversionWarning: A column-vector y was passed when a 1d array was expected. Please change the shape of y to (n_samples, ), for example using ravel().\n",
      "  y = column_or_1d(y, warn=True)\n"
     ]
    },
    {
     "data": {
      "text/plain": [
       "LogisticRegression(C=1.0, class_weight=None, dual=False, fit_intercept=True,\n",
       "          intercept_scaling=1, max_iter=100, multi_class='ovr', n_jobs=1,\n",
       "          penalty='l2', random_state=None, solver='liblinear', tol=0.0001,\n",
       "          verbose=0, warm_start=False)"
      ]
     },
     "execution_count": 11,
     "metadata": {},
     "output_type": "execute_result"
    }
   ],
   "source": [
    "model.fit(x, y)"
   ]
  },
  {
   "cell_type": "code",
   "execution_count": 12,
   "metadata": {
    "collapsed": true
   },
   "outputs": [],
   "source": [
    "start_time = time.time()"
   ]
  },
  {
   "cell_type": "code",
   "execution_count": 13,
   "metadata": {
    "collapsed": false
   },
   "outputs": [
    {
     "name": "stdout",
     "output_type": "stream",
     "text": [
      "The model coefficients are:\n",
      "[[ -4.41277313e-06  -5.78988260e-10  -1.31113554e-06  -6.31627184e-11\n",
      "   -2.56853173e-12  -1.66309653e-11  -6.57833988e-08  -3.44368143e-16\n",
      "   -1.19441860e-14  -3.44502224e-14  -1.82359297e-13  -2.19657398e-14\n",
      "   -7.06091226e-13  -6.94376208e-15  -9.60650963e-15  -8.56432095e-15\n",
      "   -8.89138470e-15   1.81546321e-15  -1.66662046e-13  -5.29607531e-14\n",
      "   -5.44243463e-13   8.86511243e-16  -6.45383294e-14  -1.92780706e-12\n",
      "   -1.65643023e-12  -6.37045007e-15  -3.23147663e-14   2.18404959e-12\n",
      "   -4.80742514e-13  -9.74324371e-16  -1.78936297e-14  -2.35146168e-12\n",
      "   -2.84564159e-14  -4.34416387e-19  -2.11085589e-14  -5.48804800e-14\n",
      "   -2.62850560e-14  -3.69420064e-13  -2.88403788e-13  -2.61282618e-13\n",
      "   -1.96497505e-14  -7.41171537e-14  -6.08030128e-15  -9.04897198e-15\n",
      "   -1.52756227e-14   3.39544583e-14  -4.50191731e-14  -5.14806629e-14\n",
      "   -4.45153359e-13  -6.55894989e-15  -2.15724600e-14  -5.58820553e-14\n",
      "   -3.95641796e-14  -1.16363308e-14  -6.04766099e-16  -1.10384325e-14\n",
      "   -1.81124430e-12  -9.22798417e-14  -1.03358073e-12  -1.71532024e-14\n",
      "   -2.64215878e-16  -1.10010433e-15  -3.16996892e-13  -3.00992021e-12\n",
      "   -3.87187389e-14  -1.48778209e-13  -6.63529528e-15  -1.99441358e-14\n",
      "   -1.00175273e-14  -2.14257197e-14  -2.34684025e-17  -2.40391450e-14\n",
      "   -1.97175183e-15]\n",
      " [ -3.42466370e-07  -4.61582367e-11  -1.01760254e-07  -4.57037061e-12\n",
      "   -2.93206700e-11  -1.16277066e-12  -4.30842703e-09  -5.56438986e-18\n",
      "   -1.49549179e-16  -1.72486477e-15  -1.17694902e-14  -9.12988846e-16\n",
      "   -4.86755122e-14  -5.70322448e-16  -3.88040449e-16  -4.43460129e-16\n",
      "   -3.75054887e-16  -5.51041168e-17  -1.03804879e-14  -1.20391112e-15\n",
      "   -4.16984681e-14  -5.22734722e-17  -3.57366640e-15  -1.48398602e-13\n",
      "   -1.19581162e-13  -8.04188186e-17  -7.86985286e-16  -2.26608098e-14\n",
      "   -3.62661794e-14  -6.89709702e-17  -7.99804109e-16  -1.83836810e-13\n",
      "   -8.31877010e-16  -6.38600115e-22  -1.37088175e-16  -2.58229277e-15\n",
      "   -1.56988814e-15  -2.57083828e-14  -2.03101564e-14  -3.53977734e-14\n",
      "   -1.22072136e-15  -5.52257727e-15   3.87280055e-17  -9.93663086e-17\n",
      "    3.13294536e-16  -2.06138973e-16  -2.02891852e-15  -3.49918107e-15\n",
      "   -3.31915418e-14  -1.30834591e-16   3.04661418e-16  -2.03215769e-15\n",
      "    1.07189071e-14   2.06077742e-15  -4.04724649e-17  -4.88069458e-16\n",
      "   -1.12888918e-13  -4.66945018e-15   1.11091569e-13   4.42456015e-15\n",
      "   -6.23948251e-17  -1.28136441e-17  -2.52553792e-14  -2.37354914e-13\n",
      "   -2.50504700e-15  -8.15673976e-15  -2.30104183e-16  -9.44107491e-17\n",
      "   -1.83772814e-17  -1.20365335e-15  -6.92001906e-17  -1.64885411e-15\n",
      "    3.05387307e-16]\n",
      " [ -1.09489909e-15  -9.82445522e-20  -3.25219247e-16  -1.44604436e-20\n",
      "   -1.95646207e-11  -3.83845956e-21  -1.34595159e-17   1.66768982e-25\n",
      "    1.25827283e-25  -2.80801999e-24  -5.68924643e-23   7.41566687e-24\n",
      "    2.68746105e-22   7.08538968e-26  -1.21777000e-24   3.65369800e-25\n",
      "   -4.77024146e-25  -5.22841943e-25  -3.07687845e-23   2.78330634e-24\n",
      "   -1.71483179e-22  -2.05447266e-25  -8.02071929e-24  -6.30858189e-22\n",
      "   -4.33426503e-22  -1.88475176e-24  -3.64193452e-24  -2.11179963e-22\n",
      "   -1.42702487e-22   2.07195351e-25   2.55331518e-24  -7.25860520e-22\n",
      "   -4.52707717e-24   2.00097672e-25   5.53164151e-25  -3.17071729e-24\n",
      "    4.07899623e-25  -6.62474381e-23  -6.03006566e-23  -7.50358371e-23\n",
      "    1.27987215e-24  -1.04579905e-23   2.61695309e-24  -3.60211235e-25\n",
      "    5.95641008e-24  -2.64943209e-24  -7.30890515e-24  -1.36531203e-23\n",
      "   -1.60039425e-22  -1.38393114e-24   5.56571633e-24  -1.03328800e-24\n",
      "   -1.40107842e-23  -4.33814300e-24  -2.29703583e-25  -1.60201307e-24\n",
      "    5.25350980e-22  -1.36552499e-23  -1.84867466e-22  -7.11253160e-24\n",
      "    3.42219426e-25   7.90495082e-25  -1.02618174e-22  -9.60940204e-22\n",
      "   -1.33046624e-23  -4.25088492e-23  -3.99406582e-25   1.17380949e-24\n",
      "    2.64424290e-24  -1.92788549e-24   5.83706735e-25  -5.47151979e-25\n",
      "    8.81773133e-25]\n",
      " [ -3.51759887e-16  -1.42882357e-20  -1.04550686e-16  -4.24873566e-21\n",
      "   -1.50357084e-11  -1.36074802e-21  -1.25971317e-18  -4.67372795e-25\n",
      "   -1.94165272e-24  -7.52527550e-24   3.37928113e-24  -3.28276390e-24\n",
      "   -2.14890926e-22  -8.50954684e-25  -5.38279460e-25  -2.43441762e-24\n",
      "   -1.15070627e-24  -4.86816404e-25  -2.53628271e-23  -1.21805531e-23\n",
      "   -3.32428122e-23  -1.84666210e-25  -1.03652994e-24  -1.82556662e-22\n",
      "   -1.22031304e-22  -8.43333179e-25  -8.07372738e-24  -2.17654061e-22\n",
      "   -2.46369313e-23   1.47682638e-25  -2.46629440e-24  -6.14292757e-23\n",
      "   -5.34724305e-24  -1.33054616e-26  -2.75833682e-24  -9.63558721e-24\n",
      "   -1.12747905e-24  -2.42569763e-23  -1.55004408e-23  -1.21551323e-22\n",
      "   -1.60033755e-24  -6.30645945e-24  -3.58783077e-24  -2.15587264e-24\n",
      "    3.85818292e-24  -2.80304685e-24  -1.62191946e-24   1.32868955e-24\n",
      "    1.63532002e-22  -9.12889260e-25  -8.00899286e-24  -1.11223803e-23\n",
      "   -1.63604154e-23  -4.08557920e-24  -2.20978186e-25  -1.59561994e-24\n",
      "   -5.06967575e-22  -1.08893063e-23  -3.23052421e-22  -6.94842904e-24\n",
      "    5.73264996e-26  -2.87744265e-25   5.63527333e-24   6.88923362e-22\n",
      "    1.66938352e-23   1.36599340e-23  -1.56837698e-24  -1.59578277e-24\n",
      "   -1.21118378e-24  -4.12727487e-24   5.60855981e-25  -1.74965138e-24\n",
      "   -9.28579949e-25]\n",
      " [ -7.89508638e-16  -5.58912244e-20  -2.34885002e-16  -1.09059280e-20\n",
      "   -2.24644770e-11  -2.57929861e-21  -8.62825180e-18  -1.35878888e-26\n",
      "   -2.49360019e-24  -7.25709620e-24   6.37365522e-24  -7.88138753e-24\n",
      "   -2.47187030e-22  -2.09953339e-24  -1.62619574e-24  -2.14286401e-24\n",
      "   -8.60855645e-25  -3.21302575e-25  -1.81710711e-23  -1.04772091e-23\n",
      "    3.90672847e-23  -2.20647217e-25  -1.55880521e-23   3.22570917e-22\n",
      "   -3.03062190e-23  -3.88531609e-24  -6.01158674e-24  -2.06386164e-22\n",
      "    1.04482654e-23  -2.08143915e-25  -2.68410727e-24   6.47833447e-23\n",
      "   -6.45936527e-24  -1.10577522e-26  -3.88415085e-24  -1.55846168e-23\n",
      "   -8.57859717e-24  -4.46119721e-23  -2.78429150e-23  -1.29658160e-22\n",
      "   -2.63390144e-24  -7.09599617e-24  -3.72813974e-24  -1.44031616e-24\n",
      "   -3.82989758e-25  -2.56258864e-24  -1.28644537e-23  -1.20061264e-23\n",
      "   -1.41047837e-22  -2.69794868e-24  -9.24290816e-24  -1.28289841e-23\n",
      "   -1.65413929e-23  -4.52692060e-24   4.48942741e-25  -1.15482750e-24\n",
      "   -5.98790100e-22  -1.79662993e-23  -3.65452741e-22  -7.24068479e-24\n",
      "   -5.03702881e-25  -2.56749957e-25   3.61623992e-25  -7.89035960e-22\n",
      "   -9.70086309e-24  -2.31646781e-23  -3.76607009e-25  -4.70060605e-24\n",
      "   -1.57873370e-24  -7.56288431e-24  -8.68934778e-25  -4.22340192e-24\n",
      "   -9.65520517e-25]]\n",
      "The intercepts are:\n",
      "[ -1.44894673e-11  -1.03436831e-12  -3.34539911e-21  -1.12739106e-21\n",
      "  -2.42154257e-21]\n",
      "model created after 0.012993 seconds\n"
     ]
    }
   ],
   "source": [
    "print (\"The model coefficients are:\")\n",
    "print (model.coef_ )\n",
    "print (\"The intercepts are:\" )\n",
    "print (model.intercept_ )\n",
    "print (\"model created after %f seconds\" % (time.time() - start_time) )"
   ]
  },
  {
   "cell_type": "code",
   "execution_count": 14,
   "metadata": {
    "collapsed": false
   },
   "outputs": [
    {
     "ename": "ValueError",
     "evalue": "Input contains NaN, infinity or a value too large for dtype('float64').",
     "output_type": "error",
     "traceback": [
      "\u001b[0;31m---------------------------------------------------------------------------\u001b[0m",
      "\u001b[0;31mValueError\u001b[0m                                Traceback (most recent call last)",
      "\u001b[0;32m<ipython-input-14-5ee232aaffd5>\u001b[0m in \u001b[0;36m<module>\u001b[0;34m()\u001b[0m\n\u001b[0;32m----> 1\u001b[0;31m \u001b[0moutput\u001b[0m \u001b[0;34m=\u001b[0m \u001b[0mmodel\u001b[0m\u001b[0;34m.\u001b[0m\u001b[0mpredict\u001b[0m\u001b[0;34m(\u001b[0m\u001b[0mz\u001b[0m\u001b[0;34m)\u001b[0m\u001b[0;34m\u001b[0m\u001b[0m\n\u001b[0m",
      "\u001b[0;32m/usr/local/lib/python3.4/dist-packages/sklearn/linear_model/base.py\u001b[0m in \u001b[0;36mpredict\u001b[0;34m(self, X)\u001b[0m\n\u001b[1;32m    266\u001b[0m             \u001b[0mPredicted\u001b[0m \u001b[0;32mclass\u001b[0m \u001b[0mlabel\u001b[0m \u001b[0mper\u001b[0m \u001b[0msample\u001b[0m\u001b[0;34m.\u001b[0m\u001b[0;34m\u001b[0m\u001b[0m\n\u001b[1;32m    267\u001b[0m         \"\"\"\n\u001b[0;32m--> 268\u001b[0;31m         \u001b[0mscores\u001b[0m \u001b[0;34m=\u001b[0m \u001b[0mself\u001b[0m\u001b[0;34m.\u001b[0m\u001b[0mdecision_function\u001b[0m\u001b[0;34m(\u001b[0m\u001b[0mX\u001b[0m\u001b[0;34m)\u001b[0m\u001b[0;34m\u001b[0m\u001b[0m\n\u001b[0m\u001b[1;32m    269\u001b[0m         \u001b[0;32mif\u001b[0m \u001b[0mlen\u001b[0m\u001b[0;34m(\u001b[0m\u001b[0mscores\u001b[0m\u001b[0;34m.\u001b[0m\u001b[0mshape\u001b[0m\u001b[0;34m)\u001b[0m \u001b[0;34m==\u001b[0m \u001b[0;36m1\u001b[0m\u001b[0;34m:\u001b[0m\u001b[0;34m\u001b[0m\u001b[0m\n\u001b[1;32m    270\u001b[0m             \u001b[0mindices\u001b[0m \u001b[0;34m=\u001b[0m \u001b[0;34m(\u001b[0m\u001b[0mscores\u001b[0m \u001b[0;34m>\u001b[0m \u001b[0;36m0\u001b[0m\u001b[0;34m)\u001b[0m\u001b[0;34m.\u001b[0m\u001b[0mastype\u001b[0m\u001b[0;34m(\u001b[0m\u001b[0mnp\u001b[0m\u001b[0;34m.\u001b[0m\u001b[0mint\u001b[0m\u001b[0;34m)\u001b[0m\u001b[0;34m\u001b[0m\u001b[0m\n",
      "\u001b[0;32m/usr/local/lib/python3.4/dist-packages/sklearn/linear_model/base.py\u001b[0m in \u001b[0;36mdecision_function\u001b[0;34m(self, X)\u001b[0m\n\u001b[1;32m    242\u001b[0m                                  \"yet\" % {'name': type(self).__name__})\n\u001b[1;32m    243\u001b[0m \u001b[0;34m\u001b[0m\u001b[0m\n\u001b[0;32m--> 244\u001b[0;31m         \u001b[0mX\u001b[0m \u001b[0;34m=\u001b[0m \u001b[0mcheck_array\u001b[0m\u001b[0;34m(\u001b[0m\u001b[0mX\u001b[0m\u001b[0;34m,\u001b[0m \u001b[0maccept_sparse\u001b[0m\u001b[0;34m=\u001b[0m\u001b[0;34m'csr'\u001b[0m\u001b[0;34m)\u001b[0m\u001b[0;34m\u001b[0m\u001b[0m\n\u001b[0m\u001b[1;32m    245\u001b[0m \u001b[0;34m\u001b[0m\u001b[0m\n\u001b[1;32m    246\u001b[0m         \u001b[0mn_features\u001b[0m \u001b[0;34m=\u001b[0m \u001b[0mself\u001b[0m\u001b[0;34m.\u001b[0m\u001b[0mcoef_\u001b[0m\u001b[0;34m.\u001b[0m\u001b[0mshape\u001b[0m\u001b[0;34m[\u001b[0m\u001b[0;36m1\u001b[0m\u001b[0;34m]\u001b[0m\u001b[0;34m\u001b[0m\u001b[0m\n",
      "\u001b[0;32m/usr/local/lib/python3.4/dist-packages/sklearn/utils/validation.py\u001b[0m in \u001b[0;36mcheck_array\u001b[0;34m(array, accept_sparse, dtype, order, copy, force_all_finite, ensure_2d, allow_nd, ensure_min_samples, ensure_min_features, warn_on_dtype, estimator)\u001b[0m\n\u001b[1;32m    396\u001b[0m                              % (array.ndim, estimator_name))\n\u001b[1;32m    397\u001b[0m         \u001b[0;32mif\u001b[0m \u001b[0mforce_all_finite\u001b[0m\u001b[0;34m:\u001b[0m\u001b[0;34m\u001b[0m\u001b[0m\n\u001b[0;32m--> 398\u001b[0;31m             \u001b[0m_assert_all_finite\u001b[0m\u001b[0;34m(\u001b[0m\u001b[0marray\u001b[0m\u001b[0;34m)\u001b[0m\u001b[0;34m\u001b[0m\u001b[0m\n\u001b[0m\u001b[1;32m    399\u001b[0m \u001b[0;34m\u001b[0m\u001b[0m\n\u001b[1;32m    400\u001b[0m     \u001b[0mshape_repr\u001b[0m \u001b[0;34m=\u001b[0m \u001b[0m_shape_repr\u001b[0m\u001b[0;34m(\u001b[0m\u001b[0marray\u001b[0m\u001b[0;34m.\u001b[0m\u001b[0mshape\u001b[0m\u001b[0;34m)\u001b[0m\u001b[0;34m\u001b[0m\u001b[0m\n",
      "\u001b[0;32m/usr/local/lib/python3.4/dist-packages/sklearn/utils/validation.py\u001b[0m in \u001b[0;36m_assert_all_finite\u001b[0;34m(X)\u001b[0m\n\u001b[1;32m     52\u001b[0m             and not np.isfinite(X).all()):\n\u001b[1;32m     53\u001b[0m         raise ValueError(\"Input contains NaN, infinity\"\n\u001b[0;32m---> 54\u001b[0;31m                          \" or a value too large for %r.\" % X.dtype)\n\u001b[0m\u001b[1;32m     55\u001b[0m \u001b[0;34m\u001b[0m\u001b[0m\n\u001b[1;32m     56\u001b[0m \u001b[0;34m\u001b[0m\u001b[0m\n",
      "\u001b[0;31mValueError\u001b[0m: Input contains NaN, infinity or a value too large for dtype('float64')."
     ]
    }
   ],
   "source": [
    "output = model.predict(z)"
   ]
  },
  {
   "cell_type": "code",
   "execution_count": null,
   "metadata": {
    "collapsed": false
   },
   "outputs": [],
   "source": [
    "output"
   ]
  },
  {
   "cell_type": "code",
   "execution_count": null,
   "metadata": {
    "collapsed": true
   },
   "outputs": [],
   "source": [
    "from sklearn.metrics import accuracy_score"
   ]
  },
  {
   "cell_type": "code",
   "execution_count": null,
   "metadata": {
    "collapsed": false
   },
   "outputs": [],
   "source": [
    "accuracy_score(test[\"TripType\"], output[:-1])"
   ]
  }
 ],
 "metadata": {
  "kernelspec": {
   "display_name": "Python 3",
   "language": "python",
   "name": "python3"
  },
  "language_info": {
   "codemirror_mode": {
    "name": "ipython",
    "version": 3
   },
   "file_extension": ".py",
   "mimetype": "text/x-python",
   "name": "python",
   "nbconvert_exporter": "python",
   "pygments_lexer": "ipython3",
   "version": "3.4.3"
  },
  "widgets": {
   "state": {},
   "version": "1.1.2"
  }
 },
 "nbformat": 4,
 "nbformat_minor": 0
}
