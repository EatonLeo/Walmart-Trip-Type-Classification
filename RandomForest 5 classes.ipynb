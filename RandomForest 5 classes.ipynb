{
 "cells": [
  {
   "cell_type": "code",
   "execution_count": 75,
   "metadata": {
    "collapsed": false
   },
   "outputs": [
    {
     "data": {
      "text/plain": [
       "(86751, 7)"
      ]
     },
     "execution_count": 75,
     "metadata": {},
     "output_type": "execute_result"
    }
   ],
   "source": [
    "import pandas as pd\n",
    "import numpy as np\n",
    "from sklearn.cross_validation import train_test_split\n",
    "train_data = pd.read_csv(\"/resources/data/kdd/project/data/fiveclasses_train.csv\")\n",
    "train_data.shape"
   ]
  },
  {
   "cell_type": "code",
   "execution_count": 34,
   "metadata": {
    "collapsed": false
   },
   "outputs": [
    {
     "data": {
      "text/html": [
       "<div>\n",
       "<table border=\"1\" class=\"dataframe\">\n",
       "  <thead>\n",
       "    <tr style=\"text-align: right;\">\n",
       "      <th></th>\n",
       "      <th>TripType</th>\n",
       "      <th>VisitNumber</th>\n",
       "      <th>Weekday</th>\n",
       "      <th>Upc</th>\n",
       "      <th>ScanCount</th>\n",
       "      <th>DepartmentDescription</th>\n",
       "      <th>FinelineNumber</th>\n",
       "    </tr>\n",
       "  </thead>\n",
       "  <tbody>\n",
       "    <tr>\n",
       "      <th>0</th>\n",
       "      <td>37</td>\n",
       "      <td>108546</td>\n",
       "      <td>1</td>\n",
       "      <td>4.082000e+03</td>\n",
       "      <td>-1</td>\n",
       "      <td>PRODUCE</td>\n",
       "      <td>4020</td>\n",
       "    </tr>\n",
       "    <tr>\n",
       "      <th>1</th>\n",
       "      <td>38</td>\n",
       "      <td>154356</td>\n",
       "      <td>1</td>\n",
       "      <td>3.800000e+09</td>\n",
       "      <td>1</td>\n",
       "      <td>GROCERY DRY GOODS</td>\n",
       "      <td>3555</td>\n",
       "    </tr>\n",
       "    <tr>\n",
       "      <th>2</th>\n",
       "      <td>36</td>\n",
       "      <td>80296</td>\n",
       "      <td>3</td>\n",
       "      <td>8.410580e+10</td>\n",
       "      <td>1</td>\n",
       "      <td>PERSONAL CARE</td>\n",
       "      <td>1410</td>\n",
       "    </tr>\n",
       "    <tr>\n",
       "      <th>3</th>\n",
       "      <td>37</td>\n",
       "      <td>168408</td>\n",
       "      <td>4</td>\n",
       "      <td>6.701522e+10</td>\n",
       "      <td>1</td>\n",
       "      <td>GROCERY DRY GOODS</td>\n",
       "      <td>2652</td>\n",
       "    </tr>\n",
       "    <tr>\n",
       "      <th>4</th>\n",
       "      <td>3</td>\n",
       "      <td>96861</td>\n",
       "      <td>6</td>\n",
       "      <td>6.811316e+10</td>\n",
       "      <td>1</td>\n",
       "      <td>FINANCIAL SERVICES</td>\n",
       "      <td>275</td>\n",
       "    </tr>\n",
       "  </tbody>\n",
       "</table>\n",
       "</div>"
      ],
      "text/plain": [
       "   TripType  VisitNumber  Weekday           Upc  ScanCount  \\\n",
       "0        37       108546        1  4.082000e+03         -1   \n",
       "1        38       154356        1  3.800000e+09          1   \n",
       "2        36        80296        3  8.410580e+10          1   \n",
       "3        37       168408        4  6.701522e+10          1   \n",
       "4         3        96861        6  6.811316e+10          1   \n",
       "\n",
       "  DepartmentDescription  FinelineNumber  \n",
       "0               PRODUCE            4020  \n",
       "1     GROCERY DRY GOODS            3555  \n",
       "2         PERSONAL CARE            1410  \n",
       "3     GROCERY DRY GOODS            2652  \n",
       "4    FINANCIAL SERVICES             275  "
      ]
     },
     "execution_count": 34,
     "metadata": {},
     "output_type": "execute_result"
    }
   ],
   "source": [
    "train_data.head()"
   ]
  },
  {
   "cell_type": "code",
   "execution_count": 35,
   "metadata": {
    "collapsed": false
   },
   "outputs": [],
   "source": [
    "#print train_data.count()\n",
    "\n",
    "train_data=train_data.dropna()\n",
    "#print train_data.count()\n",
    "#print train_data.T.apply(lambda x: x.nunique(),axis=1)"
   ]
  },
  {
   "cell_type": "code",
   "execution_count": 36,
   "metadata": {
    "collapsed": false
   },
   "outputs": [
    {
     "data": {
      "text/html": [
       "<div>\n",
       "<table border=\"1\" class=\"dataframe\">\n",
       "  <thead>\n",
       "    <tr style=\"text-align: right;\">\n",
       "      <th></th>\n",
       "      <th>TripType</th>\n",
       "      <th>VisitNumber</th>\n",
       "      <th>Weekday</th>\n",
       "      <th>Upc</th>\n",
       "      <th>ScanCount</th>\n",
       "      <th>FinelineNumber</th>\n",
       "    </tr>\n",
       "  </thead>\n",
       "  <tbody>\n",
       "    <tr>\n",
       "      <th>count</th>\n",
       "      <td>69400.000000</td>\n",
       "      <td>69400.000000</td>\n",
       "      <td>69400.000000</td>\n",
       "      <td>6.940000e+04</td>\n",
       "      <td>69400.000000</td>\n",
       "      <td>69400.000000</td>\n",
       "    </tr>\n",
       "    <tr>\n",
       "      <th>mean</th>\n",
       "      <td>31.598732</td>\n",
       "      <td>97247.483141</td>\n",
       "      <td>4.325720</td>\n",
       "      <td>2.323608e+10</td>\n",
       "      <td>1.133602</td>\n",
       "      <td>3719.621744</td>\n",
       "    </tr>\n",
       "    <tr>\n",
       "      <th>std</th>\n",
       "      <td>12.279161</td>\n",
       "      <td>55761.582885</td>\n",
       "      <td>2.080465</td>\n",
       "      <td>5.283062e+10</td>\n",
       "      <td>0.617861</td>\n",
       "      <td>2708.539332</td>\n",
       "    </tr>\n",
       "    <tr>\n",
       "      <th>min</th>\n",
       "      <td>3.000000</td>\n",
       "      <td>43.000000</td>\n",
       "      <td>1.000000</td>\n",
       "      <td>3.035000e+03</td>\n",
       "      <td>-9.000000</td>\n",
       "      <td>0.000000</td>\n",
       "    </tr>\n",
       "    <tr>\n",
       "      <th>25%</th>\n",
       "      <td>36.000000</td>\n",
       "      <td>49348.000000</td>\n",
       "      <td>2.000000</td>\n",
       "      <td>3.320017e+09</td>\n",
       "      <td>1.000000</td>\n",
       "      <td>1407.000000</td>\n",
       "    </tr>\n",
       "    <tr>\n",
       "      <th>50%</th>\n",
       "      <td>37.000000</td>\n",
       "      <td>98340.000000</td>\n",
       "      <td>5.000000</td>\n",
       "      <td>7.056084e+09</td>\n",
       "      <td>1.000000</td>\n",
       "      <td>3523.000000</td>\n",
       "    </tr>\n",
       "    <tr>\n",
       "      <th>75%</th>\n",
       "      <td>38.000000</td>\n",
       "      <td>146422.000000</td>\n",
       "      <td>6.000000</td>\n",
       "      <td>3.029939e+10</td>\n",
       "      <td>1.000000</td>\n",
       "      <td>5501.000000</td>\n",
       "    </tr>\n",
       "    <tr>\n",
       "      <th>max</th>\n",
       "      <td>38.000000</td>\n",
       "      <td>191337.000000</td>\n",
       "      <td>7.000000</td>\n",
       "      <td>9.780000e+11</td>\n",
       "      <td>31.000000</td>\n",
       "      <td>9998.000000</td>\n",
       "    </tr>\n",
       "  </tbody>\n",
       "</table>\n",
       "</div>"
      ],
      "text/plain": [
       "           TripType    VisitNumber       Weekday           Upc     ScanCount  \\\n",
       "count  69400.000000   69400.000000  69400.000000  6.940000e+04  69400.000000   \n",
       "mean      31.598732   97247.483141      4.325720  2.323608e+10      1.133602   \n",
       "std       12.279161   55761.582885      2.080465  5.283062e+10      0.617861   \n",
       "min        3.000000      43.000000      1.000000  3.035000e+03     -9.000000   \n",
       "25%       36.000000   49348.000000      2.000000  3.320017e+09      1.000000   \n",
       "50%       37.000000   98340.000000      5.000000  7.056084e+09      1.000000   \n",
       "75%       38.000000  146422.000000      6.000000  3.029939e+10      1.000000   \n",
       "max       38.000000  191337.000000      7.000000  9.780000e+11     31.000000   \n",
       "\n",
       "       FinelineNumber  \n",
       "count    69400.000000  \n",
       "mean      3719.621744  \n",
       "std       2708.539332  \n",
       "min          0.000000  \n",
       "25%       1407.000000  \n",
       "50%       3523.000000  \n",
       "75%       5501.000000  \n",
       "max       9998.000000  "
      ]
     },
     "execution_count": 36,
     "metadata": {},
     "output_type": "execute_result"
    }
   ],
   "source": [
    "train, test = train_test_split(train_data, test_size = 0.2)\n",
    "test=test.dropna()\n",
    "train=train.dropna()\n",
    "train_data = train\n",
    "train_data.describe()"
   ]
  },
  {
   "cell_type": "code",
   "execution_count": 38,
   "metadata": {
    "collapsed": true
   },
   "outputs": [],
   "source": [
    "from sklearn.ensemble import RandomForestClassifier"
   ]
  },
  {
   "cell_type": "code",
   "execution_count": 39,
   "metadata": {
    "collapsed": true
   },
   "outputs": [],
   "source": [
    "walmart_rf = RandomForestClassifier(n_estimators=100)"
   ]
  },
  {
   "cell_type": "code",
   "execution_count": 40,
   "metadata": {
    "collapsed": false
   },
   "outputs": [
    {
     "data": {
      "text/html": [
       "<div>\n",
       "<table border=\"1\" class=\"dataframe\">\n",
       "  <thead>\n",
       "    <tr style=\"text-align: right;\">\n",
       "      <th></th>\n",
       "      <th>TripType</th>\n",
       "      <th>VisitNumber</th>\n",
       "      <th>Weekday</th>\n",
       "      <th>Upc</th>\n",
       "      <th>ScanCount</th>\n",
       "      <th>DepartmentDescription</th>\n",
       "      <th>FinelineNumber</th>\n",
       "    </tr>\n",
       "  </thead>\n",
       "  <tbody>\n",
       "    <tr>\n",
       "      <th>26317</th>\n",
       "      <td>36</td>\n",
       "      <td>16800</td>\n",
       "      <td>7</td>\n",
       "      <td>3.500076e+09</td>\n",
       "      <td>2</td>\n",
       "      <td>PERSONAL CARE</td>\n",
       "      <td>211</td>\n",
       "    </tr>\n",
       "    <tr>\n",
       "      <th>55042</th>\n",
       "      <td>5</td>\n",
       "      <td>38163</td>\n",
       "      <td>4</td>\n",
       "      <td>2.200001e+09</td>\n",
       "      <td>1</td>\n",
       "      <td>IMPULSE MERCHANDISE</td>\n",
       "      <td>135</td>\n",
       "    </tr>\n",
       "    <tr>\n",
       "      <th>36687</th>\n",
       "      <td>37</td>\n",
       "      <td>66732</td>\n",
       "      <td>1</td>\n",
       "      <td>7.874202e+09</td>\n",
       "      <td>1</td>\n",
       "      <td>DSD GROCERY</td>\n",
       "      <td>9249</td>\n",
       "    </tr>\n",
       "    <tr>\n",
       "      <th>65758</th>\n",
       "      <td>37</td>\n",
       "      <td>189259</td>\n",
       "      <td>7</td>\n",
       "      <td>2.840000e+09</td>\n",
       "      <td>1</td>\n",
       "      <td>DSD GROCERY</td>\n",
       "      <td>3663</td>\n",
       "    </tr>\n",
       "    <tr>\n",
       "      <th>35025</th>\n",
       "      <td>38</td>\n",
       "      <td>60179</td>\n",
       "      <td>7</td>\n",
       "      <td>3.663201e+09</td>\n",
       "      <td>1</td>\n",
       "      <td>DAIRY</td>\n",
       "      <td>1345</td>\n",
       "    </tr>\n",
       "  </tbody>\n",
       "</table>\n",
       "</div>"
      ],
      "text/plain": [
       "       TripType  VisitNumber  Weekday           Upc  ScanCount  \\\n",
       "26317        36        16800        7  3.500076e+09          2   \n",
       "55042         5        38163        4  2.200001e+09          1   \n",
       "36687        37        66732        1  7.874202e+09          1   \n",
       "65758        37       189259        7  2.840000e+09          1   \n",
       "35025        38        60179        7  3.663201e+09          1   \n",
       "\n",
       "      DepartmentDescription  FinelineNumber  \n",
       "26317         PERSONAL CARE             211  \n",
       "55042   IMPULSE MERCHANDISE             135  \n",
       "36687           DSD GROCERY            9249  \n",
       "65758           DSD GROCERY            3663  \n",
       "35025                 DAIRY            1345  "
      ]
     },
     "execution_count": 40,
     "metadata": {},
     "output_type": "execute_result"
    }
   ],
   "source": [
    "train_data.head()"
   ]
  },
  {
   "cell_type": "code",
   "execution_count": 41,
   "metadata": {
    "collapsed": false
   },
   "outputs": [],
   "source": [
    "train_edit = train_data[[\"VisitNumber\",\"Weekday\",\"Upc\",\"ScanCount\",\"DepartmentDescription\",\"FinelineNumber\",\"TripType\"]]"
   ]
  },
  {
   "cell_type": "code",
   "execution_count": 42,
   "metadata": {
    "collapsed": true
   },
   "outputs": [],
   "source": [
    "from sklearn import preprocessing"
   ]
  },
  {
   "cell_type": "code",
   "execution_count": 43,
   "metadata": {
    "collapsed": true
   },
   "outputs": [],
   "source": [
    "le_DD = preprocessing.LabelEncoder()"
   ]
  },
  {
   "cell_type": "code",
   "execution_count": 44,
   "metadata": {
    "collapsed": false
   },
   "outputs": [],
   "source": [
    "train_edit.DepartmentDescription = le_DD.fit_transform(train_edit.DepartmentDescription)"
   ]
  },
  {
   "cell_type": "code",
   "execution_count": 45,
   "metadata": {
    "collapsed": false
   },
   "outputs": [],
   "source": [
    "le_Days = preprocessing.LabelEncoder()"
   ]
  },
  {
   "cell_type": "code",
   "execution_count": 46,
   "metadata": {
    "collapsed": true
   },
   "outputs": [],
   "source": [
    "train_edit.Weekday = le_Days.fit_transform(train_edit.Weekday)"
   ]
  },
  {
   "cell_type": "code",
   "execution_count": 64,
   "metadata": {
    "collapsed": true
   },
   "outputs": [],
   "source": [
    "walmart_rf = walmart_rf.fit(train_edit[[\"VisitNumber\", \"Weekday\", \"Upc\",\"ScanCount\",\"DepartmentDescription\",\"FinelineNumber\"] ],train_edit[\"TripType\"])"
   ]
  },
  {
   "cell_type": "code",
   "execution_count": 48,
   "metadata": {
    "collapsed": false
   },
   "outputs": [],
   "source": [
    "test_edit = test"
   ]
  },
  {
   "cell_type": "code",
   "execution_count": 49,
   "metadata": {
    "collapsed": false
   },
   "outputs": [],
   "source": [
    "le_DD_test = preprocessing.LabelEncoder()\n",
    "test_edit.DepartmentDescription = le_DD_test.fit_transform(test_edit.DepartmentDescription)"
   ]
  },
  {
   "cell_type": "code",
   "execution_count": 50,
   "metadata": {
    "collapsed": true
   },
   "outputs": [],
   "source": [
    "le_Days_test = preprocessing.LabelEncoder()\n",
    "test_edit.Weekday = le_Days_test.fit_transform(test_edit.Weekday)"
   ]
  },
  {
   "cell_type": "code",
   "execution_count": 65,
   "metadata": {
    "collapsed": true
   },
   "outputs": [],
   "source": [
    "output = walmart_rf.predict(test_edit[[\"VisitNumber\", \"Weekday\", \"Upc\",\"ScanCount\",\"DepartmentDescription\",\"FinelineNumber\"]])"
   ]
  },
  {
   "cell_type": "code",
   "execution_count": 76,
   "metadata": {
    "collapsed": false
   },
   "outputs": [],
   "source": [
    "from sklearn.metrics import accuracy_score, confusion_matrix, classification_report"
   ]
  },
  {
   "cell_type": "code",
   "execution_count": 71,
   "metadata": {
    "collapsed": false
   },
   "outputs": [
    {
     "data": {
      "text/plain": [
       "0.54774940925595061"
      ]
     },
     "execution_count": 71,
     "metadata": {},
     "output_type": "execute_result"
    }
   ],
   "source": [
    "accuracy_score(test_edit[\"TripType\"], output)"
   ]
  },
  {
   "cell_type": "code",
   "execution_count": 78,
   "metadata": {
    "collapsed": false
   },
   "outputs": [
    {
     "name": "stdout",
     "output_type": "stream",
     "text": [
      "RandomForestClassifier(bootstrap=True, class_weight=None, criterion='gini',\n",
      "            max_depth=None, max_features='auto', max_leaf_nodes=None,\n",
      "            min_samples_leaf=1, min_samples_split=2,\n",
      "            min_weight_fraction_leaf=0.0, n_estimators=100, n_jobs=1,\n",
      "            oob_score=False, random_state=None, verbose=0,\n",
      "            warm_start=False)\n"
     ]
    }
   ],
   "source": [
    "print(walmart_rf)"
   ]
  },
  {
   "cell_type": "code",
   "execution_count": 72,
   "metadata": {
    "collapsed": false
   },
   "outputs": [
    {
     "data": {
      "text/plain": [
       "array([[ 953,    9,   48,   52,   30],\n",
       "       [  10,  227, 1033,  237,  251],\n",
       "       [  23,  410, 2265,  469,  352],\n",
       "       [  17,  844,  595, 3387, 1463],\n",
       "       [  19,  286,  379, 1320, 2672]])"
      ]
     },
     "execution_count": 72,
     "metadata": {},
     "output_type": "execute_result"
    }
   ],
   "source": [
    "confusion_matrix(test_edit[\"TripType\"], output)"
   ]
  },
  {
   "cell_type": "code",
   "execution_count": 74,
   "metadata": {
    "collapsed": false
   },
   "outputs": [
    {
     "data": {
      "text/html": [
       "<div>\n",
       "<table border=\"1\" class=\"dataframe\">\n",
       "  <thead>\n",
       "    <tr style=\"text-align: right;\">\n",
       "      <th>Predicted</th>\n",
       "      <th>3</th>\n",
       "      <th>5</th>\n",
       "      <th>36</th>\n",
       "      <th>37</th>\n",
       "      <th>38</th>\n",
       "      <th>All</th>\n",
       "    </tr>\n",
       "    <tr>\n",
       "      <th>True</th>\n",
       "      <th></th>\n",
       "      <th></th>\n",
       "      <th></th>\n",
       "      <th></th>\n",
       "      <th></th>\n",
       "      <th></th>\n",
       "    </tr>\n",
       "  </thead>\n",
       "  <tbody>\n",
       "    <tr>\n",
       "      <th>3</th>\n",
       "      <td>953</td>\n",
       "      <td>9</td>\n",
       "      <td>48</td>\n",
       "      <td>52</td>\n",
       "      <td>30</td>\n",
       "      <td>1092</td>\n",
       "    </tr>\n",
       "    <tr>\n",
       "      <th>5</th>\n",
       "      <td>10</td>\n",
       "      <td>227</td>\n",
       "      <td>1033</td>\n",
       "      <td>237</td>\n",
       "      <td>251</td>\n",
       "      <td>1758</td>\n",
       "    </tr>\n",
       "    <tr>\n",
       "      <th>36</th>\n",
       "      <td>23</td>\n",
       "      <td>410</td>\n",
       "      <td>2265</td>\n",
       "      <td>469</td>\n",
       "      <td>352</td>\n",
       "      <td>3519</td>\n",
       "    </tr>\n",
       "    <tr>\n",
       "      <th>37</th>\n",
       "      <td>17</td>\n",
       "      <td>844</td>\n",
       "      <td>595</td>\n",
       "      <td>3387</td>\n",
       "      <td>1463</td>\n",
       "      <td>6306</td>\n",
       "    </tr>\n",
       "    <tr>\n",
       "      <th>38</th>\n",
       "      <td>19</td>\n",
       "      <td>286</td>\n",
       "      <td>379</td>\n",
       "      <td>1320</td>\n",
       "      <td>2672</td>\n",
       "      <td>4676</td>\n",
       "    </tr>\n",
       "    <tr>\n",
       "      <th>All</th>\n",
       "      <td>1022</td>\n",
       "      <td>1776</td>\n",
       "      <td>4320</td>\n",
       "      <td>5465</td>\n",
       "      <td>4768</td>\n",
       "      <td>17351</td>\n",
       "    </tr>\n",
       "  </tbody>\n",
       "</table>\n",
       "</div>"
      ],
      "text/plain": [
       "Predicted     3     5    36    37    38    All\n",
       "True                                          \n",
       "3           953     9    48    52    30   1092\n",
       "5            10   227  1033   237   251   1758\n",
       "36           23   410  2265   469   352   3519\n",
       "37           17   844   595  3387  1463   6306\n",
       "38           19   286   379  1320  2672   4676\n",
       "All        1022  1776  4320  5465  4768  17351"
      ]
     },
     "execution_count": 74,
     "metadata": {},
     "output_type": "execute_result"
    }
   ],
   "source": [
    "pd.crosstab(test_edit[\"TripType\"], output, rownames=['True'], colnames=['Predicted'], margins=True)"
   ]
  },
  {
   "cell_type": "code",
   "execution_count": 83,
   "metadata": {
    "collapsed": false
   },
   "outputs": [
    {
     "name": "stdout",
     "output_type": "stream",
     "text": [
      "             precision    recall  f1-score   support\n",
      "\n",
      "          3       0.93      0.87      0.90      1092\n",
      "          5       0.13      0.13      0.13      1758\n",
      "         36       0.52      0.64      0.58      3519\n",
      "         37       0.62      0.54      0.58      6306\n",
      "         38       0.56      0.57      0.57      4676\n",
      "\n",
      "avg / total       0.55      0.55      0.55     17351\n",
      "\n"
     ]
    }
   ],
   "source": [
    "print(classification_report(test_edit[\"TripType\"], output))"
   ]
  },
  {
   "cell_type": "code",
   "execution_count": 67,
   "metadata": {
    "collapsed": false
   },
   "outputs": [
    {
     "name": "stdout",
     "output_type": "stream",
     "text": [
      "Feature ranking:\n",
      "1. feature 0 (0.278480)\n",
      "2. feature 4 (0.238633)\n",
      "3. feature 2 (0.209833)\n",
      "4. feature 5 (0.202167)\n",
      "5. feature 1 (0.052749)\n",
      "6. feature 3 (0.018138)\n"
     ]
    }
   ],
   "source": [
    "importances = walmart_rf.feature_importances_\n",
    "std = np.std([tree.feature_importances_ for tree in walmart_rf.estimators_],\n",
    "             axis=0)\n",
    "indices = np.argsort(importances)[::-1]\n",
    "\n",
    "# Print the feature ranking\n",
    "print(\"Feature ranking:\")\n",
    "\n",
    "for f in range(train_edit.shape[1]-1):\n",
    "    print(\"%d. feature %d (%f)\" % (f + 1, indices[f], importances[indices[f]]))\n",
    "\n"
   ]
  },
  {
   "cell_type": "code",
   "execution_count": 68,
   "metadata": {
    "collapsed": false
   },
   "outputs": [
    {
     "data": {
      "text/html": [
       "<div>\n",
       "<table border=\"1\" class=\"dataframe\">\n",
       "  <thead>\n",
       "    <tr style=\"text-align: right;\">\n",
       "      <th></th>\n",
       "      <th>VisitNumber</th>\n",
       "      <th>Weekday</th>\n",
       "      <th>Upc</th>\n",
       "      <th>ScanCount</th>\n",
       "      <th>DepartmentDescription</th>\n",
       "      <th>FinelineNumber</th>\n",
       "      <th>TripType</th>\n",
       "    </tr>\n",
       "  </thead>\n",
       "  <tbody>\n",
       "    <tr>\n",
       "      <th>26317</th>\n",
       "      <td>16800</td>\n",
       "      <td>6</td>\n",
       "      <td>3.500076e+09</td>\n",
       "      <td>2</td>\n",
       "      <td>49</td>\n",
       "      <td>211</td>\n",
       "      <td>36</td>\n",
       "    </tr>\n",
       "    <tr>\n",
       "      <th>55042</th>\n",
       "      <td>38163</td>\n",
       "      <td>3</td>\n",
       "      <td>2.200001e+09</td>\n",
       "      <td>1</td>\n",
       "      <td>32</td>\n",
       "      <td>135</td>\n",
       "      <td>5</td>\n",
       "    </tr>\n",
       "    <tr>\n",
       "      <th>36687</th>\n",
       "      <td>66732</td>\n",
       "      <td>0</td>\n",
       "      <td>7.874202e+09</td>\n",
       "      <td>1</td>\n",
       "      <td>17</td>\n",
       "      <td>9249</td>\n",
       "      <td>37</td>\n",
       "    </tr>\n",
       "    <tr>\n",
       "      <th>65758</th>\n",
       "      <td>189259</td>\n",
       "      <td>6</td>\n",
       "      <td>2.840000e+09</td>\n",
       "      <td>1</td>\n",
       "      <td>17</td>\n",
       "      <td>3663</td>\n",
       "      <td>37</td>\n",
       "    </tr>\n",
       "    <tr>\n",
       "      <th>35025</th>\n",
       "      <td>60179</td>\n",
       "      <td>6</td>\n",
       "      <td>3.663201e+09</td>\n",
       "      <td>1</td>\n",
       "      <td>16</td>\n",
       "      <td>1345</td>\n",
       "      <td>38</td>\n",
       "    </tr>\n",
       "  </tbody>\n",
       "</table>\n",
       "</div>"
      ],
      "text/plain": [
       "       VisitNumber  Weekday           Upc  ScanCount  DepartmentDescription  \\\n",
       "26317        16800        6  3.500076e+09          2                     49   \n",
       "55042        38163        3  2.200001e+09          1                     32   \n",
       "36687        66732        0  7.874202e+09          1                     17   \n",
       "65758       189259        6  2.840000e+09          1                     17   \n",
       "35025        60179        6  3.663201e+09          1                     16   \n",
       "\n",
       "       FinelineNumber  TripType  \n",
       "26317             211        36  \n",
       "55042             135         5  \n",
       "36687            9249        37  \n",
       "65758            3663        37  \n",
       "35025            1345        38  "
      ]
     },
     "execution_count": 68,
     "metadata": {},
     "output_type": "execute_result"
    }
   ],
   "source": [
    "train_edit.head()"
   ]
  },
  {
   "cell_type": "code",
   "execution_count": 69,
   "metadata": {
    "collapsed": false
   },
   "outputs": [
    {
     "data": {
      "image/png": "[encoded data removed]",
      "text/plain": [
       "<matplotlib.figure.Figure at 0x7ff3f0588518>"
      ]
     },
     "metadata": {},
     "output_type": "display_data"
    }
   ],
   "source": [
    "from matplotlib import pyplot as plt\n",
    "%matplotlib inline\n",
    "# Plot the feature importances of the forest\n",
    "plt.figure()\n",
    "plt.title(\"Feature importances\")\n",
    "plt.bar(range(train_edit.shape[1]-1), importances[indices],\n",
    "       color=\"r\", yerr=std[indices], align=\"center\")\n",
    "plt.xticks(range(train_edit.shape[1]-1), indices)\n",
    "plt.xlim([-1, train_edit.shape[1]-1])\n",
    "plt.show()"
   ]
  }
 ],
 "metadata": {
  "anaconda-cloud": {},
  "kernelspec": {
   "display_name": "Python 3",
   "language": "python",
   "name": "python3"
  },
  "language_info": {
   "codemirror_mode": {
    "name": "ipython",
    "version": 3
   },
   "file_extension": ".py",
   "mimetype": "text/x-python",
   "name": "python",
   "nbconvert_exporter": "python",
   "pygments_lexer": "ipython3",
   "version": "3.4.3"
  },
  "widgets": {
   "state": {},
   "version": "1.1.2"
  }
 },
 "nbformat": 4,
 "nbformat_minor": 0
}
